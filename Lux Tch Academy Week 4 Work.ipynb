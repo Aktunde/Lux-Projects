{
 "cells": [
  {
   "cell_type": "code",
   "execution_count": 1,
   "id": "087b999b",
   "metadata": {},
   "outputs": [],
   "source": [
    "class Stack:\n",
    "    def __init__(self):\n",
    "        self.items = []\n",
    "\n",
    "    def push(self, item):\n",
    "        self.items.append(item)\n",
    "\n",
    "    def pop(self):\n",
    "        if not self.is_empty():\n",
    "            return self.items.pop()\n",
    "        return None\n",
    "\n",
    "    def is_empty(self):\n",
    "        return len(self.items) == 0\n",
    "\n",
    "    def size(self):\n",
    "        return len(self.items)\n",
    "\n",
    "\n"
   ]
  },
  {
   "cell_type": "code",
   "execution_count": 2,
   "id": "e11f4e67",
   "metadata": {},
   "outputs": [],
   "source": [
    "def is_palindrome(string):\n",
    "    stack = Stack()\n",
    "\n",
    "    # Remove spaces and convert to lowercase in the string\n",
    "    cleaned_string = ''.join([char.lower() for char in string if char.isalnum()])\n",
    "\n",
    "    # Push all characters onto the stack\n",
    "    for char in cleaned_string:\n",
    "        stack.push(char)\n",
    "\n",
    "    # Pop characters from the stack and compare with the original string\n",
    "    for char in cleaned_string:\n",
    "        if char != stack.pop():\n",
    "            return False\n",
    "\n",
    "    return True\n",
    "\n"
   ]
  },
  {
   "cell_type": "code",
   "execution_count": 3,
   "id": "cea3b20c",
   "metadata": {},
   "outputs": [
    {
     "name": "stdout",
     "output_type": "stream",
     "text": [
      "True\n"
     ]
    }
   ],
   "source": [
    "\n",
    "# Test cases\n",
    "print(is_palindrome(\"racecar\"))      \n"
   ]
  },
  {
   "cell_type": "code",
   "execution_count": 7,
   "id": "08cc6908",
   "metadata": {},
   "outputs": [
    {
     "name": "stdout",
     "output_type": "stream",
     "text": [
      "True\n"
     ]
    }
   ],
   "source": [
    "print(is_palindrome(\"level\"))"
   ]
  },
  {
   "cell_type": "code",
   "execution_count": 8,
   "id": "1b34ff7b",
   "metadata": {},
   "outputs": [
    {
     "name": "stdout",
     "output_type": "stream",
     "text": [
      "True\n"
     ]
    }
   ],
   "source": [
    "print(is_palindrome(\"minim\"))"
   ]
  },
  {
   "cell_type": "code",
   "execution_count": 9,
   "id": "5e066354",
   "metadata": {},
   "outputs": [
    {
     "name": "stdout",
     "output_type": "stream",
     "text": [
      "False\n"
     ]
    }
   ],
   "source": [
    "print(is_palindrome(\"America\"))"
   ]
  },
  {
   "cell_type": "markdown",
   "id": "cb7fa35b",
   "metadata": {},
   "source": [
    "2). Explain the concept of list comprehension in Python with at least three examples."
   ]
  },
  {
   "cell_type": "markdown",
   "id": "a91e7e02",
   "metadata": {},
   "source": [
    "List comprehension is a concise way to create lists in Python. \n",
    "It provides a syntactic construct that allows for the generation of lists from existing iterables (like lists, tuples, or strings) in a single line of code. This can make the code more readable and efficient.\n",
    "\n",
    "The general syntax for list comprehension is:\n",
    "    \n",
    "[expression for item in iterable if condition]\n",
    "\n",
    "With breakdown as follow:\n",
    "\n",
    "expression: The value or operation that you want to apply to each item in the iterable.\n",
    "    \n",
    "for item in iterable: Loops over each item in the given iterable.\n",
    "    \n",
    "if condition: (Optional) Filters items for which the condition is True."
   ]
  },
  {
   "cell_type": "code",
   "execution_count": 10,
   "id": "2b75c803",
   "metadata": {},
   "outputs": [
    {
     "name": "stdout",
     "output_type": "stream",
     "text": [
      "[1, 4, 9, 16, 25, 36, 49, 64, 81, 100]\n"
     ]
    }
   ],
   "source": [
    "#Example, \n",
    "using a loop:\n",
    "# Find squares of numbers between 1 and 10\n",
    "\n",
    "squares = []\n",
    "for i in range(1, 11):\n",
    "    squares.append(i**2)\n",
    "print(squares)\n",
    "\n",
    "\n"
   ]
  },
  {
   "cell_type": "code",
   "execution_count": 12,
   "id": "dad72ec9",
   "metadata": {},
   "outputs": [
    {
     "name": "stdout",
     "output_type": "stream",
     "text": [
      "[1, 4, 9, 16, 25, 36, 49, 64, 81, 100]\n"
     ]
    }
   ],
   "source": [
    "#using a list comprehension:\n",
    "#Ex. 1\n",
    "squares = [i**2 for i in range(1, 11)]\n",
    "print(squares)"
   ]
  },
  {
   "cell_type": "code",
   "execution_count": 20,
   "id": "27e53fe6",
   "metadata": {},
   "outputs": [
    {
     "name": "stdout",
     "output_type": "stream",
     "text": [
      "[2, 3, 4, 5, 6]\n"
     ]
    }
   ],
   "source": [
    "#Ex.2.\n",
    "sums=[i+1 for i in range(1,6)]\n",
    "print(sums)"
   ]
  },
  {
   "cell_type": "code",
   "execution_count": 22,
   "id": "0ea8069c",
   "metadata": {},
   "outputs": [
    {
     "name": "stdout",
     "output_type": "stream",
     "text": [
      "[0.5, 1.0, 1.5, 2.0, 2.5, 3.0, 3.5, 4.0, 4.5]\n"
     ]
    }
   ],
   "source": [
    "#Ex.3\n",
    "Halves=[i/2 for i in range(1,10)]\n",
    "print(Halves)"
   ]
  },
  {
   "cell_type": "markdown",
   "id": "de7f9d07",
   "metadata": {},
   "source": [
    "3). Explain what a compound datatype is in Python with three examples."
   ]
  },
  {
   "cell_type": "markdown",
   "id": "c0e51276",
   "metadata": {},
   "source": [
    " Compound datatypes in Python are data structures that can hold multiple values or elements, possibly of different types, together in a single unit. The most common compound datatypes in Python are dictionaries,lists,and tuples.  "
   ]
  },
  {
   "cell_type": "markdown",
   "id": "0f225ffe",
   "metadata": {},
   "source": [
    "A). Tuples: Ordered, immutable collections, often used to store fixed sequences of items.\n",
    "    "
   ]
  },
  {
   "cell_type": "code",
   "execution_count": 13,
   "id": "b2673f64",
   "metadata": {},
   "outputs": [
    {
     "name": "stdout",
     "output_type": "stream",
     "text": [
      "[(1, 1), (2, 8), (3, 27), (4, 64)]\n"
     ]
    }
   ],
   "source": [
    "tuples_list = [(i, i**3) for i in range(1, 5)]\n",
    "print(tuples_list)\n"
   ]
  },
  {
   "cell_type": "markdown",
   "id": "bf8c8d3b",
   "metadata": {},
   "source": [
    "B). List- A list is an ordered collection of elements, which can be of any type (including other lists). Lists are mutable- can modify their contents after they are created"
   ]
  },
  {
   "cell_type": "code",
   "execution_count": 14,
   "id": "80457be5",
   "metadata": {},
   "outputs": [
    {
     "name": "stdout",
     "output_type": "stream",
     "text": [
      "['hello', 1, 3.14, [1, 2, 3]]\n"
     ]
    }
   ],
   "source": [
    "# Example of a list containing different types of elements\n",
    "my_list = [\"hello\",1, 3.14, [1,2,3,]]\n",
    "\n",
    "print(my_list)  \n",
    "\n",
    "\n"
   ]
  },
  {
   "cell_type": "code",
   "execution_count": 15,
   "id": "f5a0f9bb",
   "metadata": {},
   "outputs": [
    {
     "name": "stdout",
     "output_type": "stream",
     "text": [
      "3.14\n"
     ]
    }
   ],
   "source": [
    "# Accessing elements\n",
    "print(my_list[2]) \n",
    "\n"
   ]
  },
  {
   "cell_type": "code",
   "execution_count": 16,
   "id": "fabd37b2",
   "metadata": {},
   "outputs": [
    {
     "name": "stdout",
     "output_type": "stream",
     "text": [
      "['hello', 1, 3.187, [1, 2, 3]]\n"
     ]
    }
   ],
   "source": [
    "# Modifying an element\n",
    "my_list[2] = 3.187\n",
    "print(my_list) "
   ]
  },
  {
   "cell_type": "markdown",
   "id": "590d5738",
   "metadata": {},
   "source": [
    "C) Dictionaries: Unordered, mutable collections of key-value pairs, where each key must be unique."
   ]
  },
  {
   "cell_type": "code",
   "execution_count": 17,
   "id": "a1cbf8b9",
   "metadata": {},
   "outputs": [
    {
     "name": "stdout",
     "output_type": "stream",
     "text": [
      "{'Student_name': 'Akin', 'age': 32, 'is_student': True, 'courses': ['Eng', 'Geography']}\n"
     ]
    }
   ],
   "source": [
    "# Example of a dictionary with string keys and various types of values\n",
    "my_dict = {\n",
    "    \"Student_name\": \"Akin\",\n",
    "    \"age\": 32,\n",
    "    \"is_student\": True,\n",
    "    \"courses\": [\"Eng\", \"Geography\"]\n",
    "}\n",
    "\n",
    "print(my_dict)"
   ]
  },
  {
   "cell_type": "code",
   "execution_count": 19,
   "id": "db8a48d6",
   "metadata": {},
   "outputs": [
    {
     "name": "stdout",
     "output_type": "stream",
     "text": [
      "{'Student_name': 'Akin', 'age': 32, 'is_student': True, 'courses': ['Eng', 'Geography'], 'Library_user': True}\n"
     ]
    }
   ],
   "source": [
    "# Adding a new key-value pair\n",
    "my_dict[\"Library_user\"] = True\n",
    "print(my_dict) "
   ]
  },
  {
   "cell_type": "markdown",
   "id": "d00d3f1b",
   "metadata": {},
   "source": [
    "4).Write a function that takes a string and returns a list of bigrams."
   ]
  },
  {
   "cell_type": "markdown",
   "id": "7a5d82c0",
   "metadata": {},
   "source": [
    "A bigram or digram is a sequence of two adjacent elements from a string of tokens, which are typically letters, syllables, or words. A bigram is an n-gram for n=2.\n",
    "\n",
    "The frequency distribution of every bigram in a string is commonly used for simple statistical analysis of text in many applications, including in computational linguistics, cryptography, and speech recognition.\n",
    "Soruce: Wikipedia"
   ]
  },
  {
   "cell_type": "code",
   "execution_count": 58,
   "id": "80b78f04",
   "metadata": {},
   "outputs": [
    {
     "name": "stdout",
     "output_type": "stream",
     "text": [
      "The formed bigrams are: [('Who', 'are'), ('are', 'they')]\n"
     ]
    }
   ],
   "source": [
    "# Define a function called 'generate_bigram' that generates bigrams from a list of text sequences.\n",
    "def generate_bigrams(text):\n",
    "    words = text.split()\n",
    "    return [(a, b) for a, b in zip(words[:-1], words[1:])]\n",
    "\n",
    "# Example usage:\n",
    "input_text = \"Who are they\"\n",
    "result = generate_bigrams(input_text)\n",
    "print(\"The formed bigrams are:\", result)\n"
   ]
  },
  {
   "cell_type": "markdown",
   "id": "35da5550",
   "metadata": {},
   "source": [
    "5). Given a dictionary with keys as letters and values as lists of letters, write a function closest_key to find the key with the input value closest to the beginning of the list."
   ]
  },
  {
   "cell_type": "code",
   "execution_count": 65,
   "id": "9fcaa4a0",
   "metadata": {},
   "outputs": [
    {
     "name": "stdout",
     "output_type": "stream",
     "text": [
      "The closest key to 'o' is: 721\n"
     ]
    }
   ],
   "source": [
    "def closest_key(d, target_value):\n",
    "  \n",
    "    closest = None\n",
    "    min_distance = float('inf')\n",
    "\n",
    "    for key, value_list in d.items():\n",
    "        if target_value in value_list:\n",
    "            distance = value_list.index(target_value)\n",
    "            if distance < min_distance:\n",
    "                min_distance = distance\n",
    "                closest = key\n",
    "\n",
    "    return closest\n",
    "# Example usage:\n",
    "sample = {\n",
    "    '220': ['B', 'd', 'l'],\n",
    "    '434': ['A', 'a', 'j'],\n",
    "    '721': ['o', 'f', 'g', 'h', 'o']\n",
    "}\n",
    "\n",
    "target = 'o'\n",
    "result = closest_key(sample, target)\n",
    "print(f\"The closest key to '{target}' is: {result}\")\n",
    "\n"
   ]
  }
 ],
 "metadata": {
  "kernelspec": {
   "display_name": "Python 3 (ipykernel)",
   "language": "python",
   "name": "python3"
  },
  "language_info": {
   "codemirror_mode": {
    "name": "ipython",
    "version": 3
   },
   "file_extension": ".py",
   "mimetype": "text/x-python",
   "name": "python",
   "nbconvert_exporter": "python",
   "pygments_lexer": "ipython3",
   "version": "3.9.12"
  }
 },
 "nbformat": 4,
 "nbformat_minor": 5
}
